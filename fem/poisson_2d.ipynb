{
 "cells": [
  {
   "cell_type": "markdown",
   "metadata": {},
   "source": [
    "# B-splines FEM solver for Poisson equation\n"
   ]
  },
  {
   "cell_type": "markdown",
   "metadata": {},
   "source": [
    "## 1-D Poisson solver\n",
    "\n",
    "Let's first define the assembly procedures for the stiffness matrix and the rhs."
   ]
  },
  {
   "cell_type": "code",
   "execution_count": 1,
   "metadata": {},
   "outputs": [],
   "source": [
    "# needed imports\n",
    "from numpy import zeros, ones, linspace, zeros_like, asarray\n",
    "from matplotlib.pyplot import plot, show\n",
    "%matplotlib inline"
   ]
  },
  {
   "cell_type": "code",
   "execution_count": 9,
   "metadata": {},
   "outputs": [],
   "source": [
    "# ... assembling the stiffness matrix using stencil forms\n",
    "def assemble_stiffness(nelements, degree, spans, basis, weights, points, matrix):\n",
    "\n",
    "    # ... sizes\n",
    "    ne1,ne2              = nelements\n",
    "    p1,p2                = degree\n",
    "    spans_1, spans_2     = spans\n",
    "    basis_1, basis_2     = basis\n",
    "    weights_1, weights_2 = weights\n",
    "    points_1, points_2   = points\n",
    "    \n",
    "    k1 = weights_1.shape[1]\n",
    "    k2 = weights_2.shape[1]\n",
    "    # ...\n",
    "\n",
    "    # ... build matrices\n",
    "    for ie1 in range(0, ne1):\n",
    "        i_span_1 = spans_1[ie1]        \n",
    "        for ie2 in range(0, ne2):\n",
    "            i_span_2 = spans_2[ie2]        \n",
    "            # evaluation dependant uniquement de l'element\n",
    "            \n",
    "            for il_1 in range(0, p1+1):\n",
    "                for il_2 in range(0, p2+1):                \n",
    "                    for jl_1 in range(0, p1+1):\n",
    "                        for jl_2 in range(0, p2+1):\n",
    "                            i1 = i_span_1 - p1 + il_1\n",
    "                            j1 = i_span_1 - p1 + jl_1\n",
    "\n",
    "                            i2 = i_span_2 - p2 + il_2\n",
    "                            j2 = i_span_2 - p2 + jl_2\n",
    "\n",
    "                            v = 0.0\n",
    "                            for g1 in range(0, k1):\n",
    "                                for g2 in range(0, k2):\n",
    "                                    bi_0 = basis_1[ie1, il_1, 0, g1] * basis_2[ie2, il_2, 0, g2]\n",
    "                                    bi_x = basis_1[ie1, il_1, 1, g1] * basis_2[ie2, il_2, 0, g2]\n",
    "                                    bi_y = basis_1[ie1, il_1, 0, g1] * basis_2[ie2, il_2, 1, g2]\n",
    "\n",
    "                                    bj_0 = basis_1[ie1, jl_1, 0, g1] * basis_2[ie2, jl_2, 0, g2]\n",
    "                                    bj_x = basis_1[ie1, jl_1, 1, g1] * basis_2[ie2, jl_2, 0, g2]\n",
    "                                    bj_y = basis_1[ie1, jl_1, 0, g1] * basis_2[ie2, jl_2, 1, g2]\n",
    "\n",
    "                                    wvol = weights_1[ie1, g1] * weights_2[ie2, g2]\n",
    "\n",
    "                                    v += (bi_x * bj_x + bi_y * bj_y) * wvol\n",
    "\n",
    "                            matrix[i1, j1, i2, j2]  += v\n",
    "    # ...\n",
    "\n",
    "    return matrix    \n",
    "# ..."
   ]
  },
  {
   "cell_type": "code",
   "execution_count": 15,
   "metadata": {},
   "outputs": [],
   "source": [
    "# ... Assembly procedure for the rhs\n",
    "def assemble_rhs(f, nelements, degree, spans, basis, weights, points, rhs):\n",
    "\n",
    "    # ... sizes\n",
    "    ne1,ne2              = nelements\n",
    "    p1,p2                = degree\n",
    "    spans_1, spans_2     = spans\n",
    "    basis_1, basis_2     = basis\n",
    "    weights_1, weights_2 = weights\n",
    "    points_1, points_2   = points\n",
    "    \n",
    "    k1 = weights_1.shape[1]\n",
    "    k2 = weights_2.shape[1]\n",
    "    # ...\n",
    "    \n",
    "    arr_f = zeros((k1,k2))\n",
    "    arr_s = zeros((k1,k2))\n",
    "\n",
    "    # ... build rhs\n",
    "    for ie1 in range(0, ne1):\n",
    "        i_span_1 = spans_1[ie1]        \n",
    "        for ie2 in range(0, ne2):\n",
    "            i_span_2 = spans_2[ie2]        \n",
    "            # evaluation dependant uniquement de l'element\n",
    "            for g1 in range(0, k1):\n",
    "                for g2 in range(0, k2):\n",
    "                    x1    = points_1[ie1, g1]\n",
    "                    x2    = points_2[ie2, g2]\n",
    "                    \n",
    "                    arr_f[g1,g2] = f(x1,x2)\n",
    "                    \n",
    "            for g1 in range(0, k1):\n",
    "                for g2 in range(0, k2):\n",
    "                    arr_s[g1,g2] = 0.\n",
    "                    for il_1 in range(0, p1+1):\n",
    "                        for il_2 in range(0, p2+1):   \n",
    "                            i1 = i_span_1 - p1 + il_1\n",
    "                            i2 = i_span_2 - p2 + il_2   \n",
    "                            \n",
    "                            bi_0 = basis_1[ie1, il_1, 0, g1] * basis_2[ie2, il_2, 0, g2]\n",
    "                            bi_x = basis_1[ie1, il_1, 1, g1] * basis_2[ie2, il_2, 0, g2]\n",
    "                            bi_y = basis_1[ie1, il_1, 0, g1] * basis_2[ie2, il_2, 1, g2]                            \n",
    "                            \n",
    "                            arr_s[g1,g2] += s[i1,i2] * bi_0\n",
    "                    \n",
    "            \n",
    "            for il_1 in range(0, p1+1):\n",
    "                for il_2 in range(0, p2+1):   \n",
    "                    i1 = i_span_1 - p1 + il_1\n",
    "                    i2 = i_span_2 - p2 + il_2                    \n",
    "\n",
    "                    v = 0.0\n",
    "                    for g1 in range(0, k1):\n",
    "                        for g2 in range(0, k2):\n",
    "                            bi_0 = basis_1[ie1, il_1, 0, g1] * basis_2[ie2, il_2, 0, g2]\n",
    "                            bi_x = basis_1[ie1, il_1, 1, g1] * basis_2[ie2, il_2, 0, g2]\n",
    "                            bi_y = basis_1[ie1, il_1, 0, g1] * basis_2[ie2, il_2, 1, g2]\n",
    "                            \n",
    "                            x1    = points_1[ie1, g1]\n",
    "                            x2    = points_2[ie2, g2]\n",
    "                            wvol  = weights_1[ie1, g1]*weights_2[ie2, g2]\n",
    "\n",
    "                            v += bi_0 * arr_f[g1,g2] * arr_s[g1,g2] * wvol\n",
    "\n",
    "                    rhs[i1,i2] += v\n",
    "    # ...\n",
    "\n",
    "    # ...\n",
    "    return rhs\n",
    "    # ...\n",
    "# ..."
   ]
  },
  {
   "cell_type": "markdown",
   "metadata": {},
   "source": [
    "---\n",
    "**Note**: \n",
    "We added the function **f** as an argument of the *assemble_rhs* function. In general, we will avoid calling a function over the quadrature points for performance reasons. \n",
    "\n",
    "---"
   ]
  },
  {
   "cell_type": "markdown",
   "metadata": {},
   "source": [
    "We will need the following imports from the **bsplines.py** file and the quadrature rule."
   ]
  },
  {
   "cell_type": "code",
   "execution_count": 4,
   "metadata": {},
   "outputs": [],
   "source": [
    "# nedded imports\n",
    "from bsplines    import elements_spans  # computes the span for each element\n",
    "from bsplines    import make_knots      # create a knot sequence from a grid\n",
    "from bsplines    import quadrature_grid # create a quadrature rule over the whole 1d grid\n",
    "from bsplines    import basis_ders_on_quad_grid # evaluates all bsplines and their derivatives on the quad grid\n",
    "from quadratures import gauss_legendre\n",
    "from utilities   import plot_field_1d # plot a solution for 1d problems"
   ]
  },
  {
   "cell_type": "markdown",
   "metadata": {},
   "source": [
    "Now, let's create a B-spline Finite Element Space $V$ over a grid of $32$ elements, and using **cubic** *B-splines*.\n",
    "\n",
    "A B-Spline space is defined here through a grid, we then call the function **make_knots** to create an open knot sequence. We finally, compute the spans for every element, to avoid doing it for each quadrature point on the current element, in the assembly procedure."
   ]
  },
  {
   "cell_type": "code",
   "execution_count": 5,
   "metadata": {},
   "outputs": [],
   "source": [
    "p  = 3    # spline degree\n",
    "ne = 32   # number of elements\n",
    "\n",
    "grid  = linspace(0., 1., ne+1)\n",
    "knots = make_knots(grid, p, periodic=False)\n",
    "spans = elements_spans(knots, p)  "
   ]
  },
  {
   "cell_type": "code",
   "execution_count": 6,
   "metadata": {},
   "outputs": [],
   "source": [
    "nelements = len(grid) - 1\n",
    "nbasis    = len(knots) - p - 1\n",
    "\n",
    "# we need the value a B-Spline and its first derivative\n",
    "nderiv = 1\n",
    "\n",
    "# create the gauss-legendre rule, on [-1, 1]\n",
    "u, w = gauss_legendre( p )\n",
    "\n",
    "# for each element on the grid, we create a local quadrature grid\n",
    "points, weights = quadrature_grid( grid, u, w )\n",
    "\n",
    "# for each element and a quadrature points, \n",
    "# we compute the non-vanishing B-Splines\n",
    "basis = basis_ders_on_quad_grid( knots, p, points, nderiv )"
   ]
  },
  {
   "cell_type": "markdown",
   "metadata": {},
   "source": [
    "Assembling the **Stiffness** matrix is then done using"
   ]
  },
  {
   "cell_type": "code",
   "execution_count": 10,
   "metadata": {},
   "outputs": [],
   "source": [
    "stiffness = zeros((nbasis, nbasis, nbasis, nbasis))\n",
    "stiffness = assemble_stiffness((nelements, nelements), (p,p), (spans, spans), (basis, basis), (weights, weights), (points, points), matrix=stiffness)"
   ]
  },
  {
   "cell_type": "markdown",
   "metadata": {},
   "source": [
    "### Analytical solution\n",
    "\n",
    "In finite elements, one of the first tests we do is to check polynomial solutions of with a degree that smaller or equal to the one we chose for our discretization.\n",
    "Here, we take the analytical solution $u(x) = x(1-x)$ which leads to the rhs $f(x) = - \\partial_{xx} u(x) = 2$."
   ]
  },
  {
   "cell_type": "code",
   "execution_count": 16,
   "metadata": {},
   "outputs": [],
   "source": [
    "f = lambda x,y: 2.    \n",
    "rhs = zeros((nbasis, nbasis))\n",
    "rhs = assemble_rhs(f, (nelements, nelements), (p,p), (spans,spans), (basis,basis), (weights,weights), (points,points), rhs=rhs)"
   ]
  },
  {
   "cell_type": "markdown",
   "metadata": {},
   "source": [
    "In order to apply the homogeneous Dirichlet boundary conditions, we only have to remove the first and the last splines, since their values at the boundary is $1$. Due to the partition of unity, the remaining splines are $0$ on the boundary."
   ]
  },
  {
   "cell_type": "code",
   "execution_count": 9,
   "metadata": {},
   "outputs": [],
   "source": [
    "# apply homogeneous dirichlet boundary conditions\n",
    "rhs = rhs[1:-1,1:-1]\n",
    "stiffness = stiffness[1:-1, 1:-1, 1:-1, 1:-1]"
   ]
  },
  {
   "cell_type": "markdown",
   "metadata": {},
   "source": [
    "We use a **cg** solver from **scipy** to solve the linear system."
   ]
  },
  {
   "cell_type": "code",
   "execution_count": 10,
   "metadata": {},
   "outputs": [],
   "source": [
    "from scipy.sparse.linalg import cg\n",
    "u, info = cg( stiffness, rhs, tol=1e-6, maxiter=5000 )"
   ]
  },
  {
   "cell_type": "markdown",
   "metadata": {},
   "source": [
    "Now, we need to add the first and last control points, which are equal to **0**, then proceed to the plot."
   ]
  },
  {
   "cell_type": "code",
   "execution_count": 11,
   "metadata": {},
   "outputs": [
    {
     "data": {
      "image/png": "[encoded data removed]",
      "text/plain": [
       "<Figure size 432x288 with 1 Axes>"
      ]
     },
     "metadata": {
      "needs_background": "light"
     },
     "output_type": "display_data"
    }
   ],
   "source": [
    "u = [0.] + list(u) + [0.]\n",
    "u = asarray(u)\n",
    "plot_field_1d(knots, p, u, nx=401)"
   ]
  },
  {
   "cell_type": "markdown",
   "metadata": {},
   "source": [
    "### Exercise 1.\n",
    "\n",
    "1. Implement a 1D Poisson solver using non homogeneous Dirichlet boundary conditions.\n",
    "\n",
    "2. Implement a 2D Poisson solver using homogeneous and non homogeneous Dirichlet boundary conditions."
   ]
  },
  {
   "cell_type": "markdown",
   "metadata": {},
   "source": [
    "### Exercise 2.\n",
    "\n",
    "We consider the Heat equation in 1D\n",
    "\n",
    "$$\n",
    "\\partial_t u = \\nabla^2 u\n",
    "$$\n",
    "\n",
    "with homogeneous boundary conditions.\n",
    "\n",
    "1. Write an explicit FEM solver. What do you notice about the dependency of the CFL with respect to the degree? what about the regularity?\n",
    "\n",
    "2. Write an implicit FEM solver."
   ]
  },
  {
   "cell_type": "markdown",
   "metadata": {},
   "source": [
    "### Exercise 3.\n",
    "\n",
    "We consider a unidirectional flow in the velocity/pressure formulation\n",
    "\n",
    "$$\n",
    "\\partial u_x = - \\frac{1}{\\rho} \\partial_x p + \\nu \\partial_{yy}^2 u_x + g_x\n",
    "$$\n",
    "\n",
    "where the unknown $u_x$ is a function of $y$ only. \n",
    "\n",
    "We will consider $\\partial_x p = -2$ and $g_x = 0.4$. The boundary conditions are given by $u_x(y=0) = u_x(y=h) = 0$.\n",
    "\n",
    "1. Write an explicit and implicit time schemes and solvers.\n",
    "\n",
    "2. Find numerical CFL in the case of explicit time scheme.\n",
    "\n",
    "3. Find the steady state.\n"
   ]
  },
  {
   "cell_type": "code",
   "execution_count": 12,
   "metadata": {},
   "outputs": [
    {
     "data": {
      "text/html": [
       "<link href='http://fonts.googleapis.com/css?family=Fenix' rel='stylesheet' type='text/css'>\n",
       "<link href='http://fonts.googleapis.com/css?family=Alegreya+Sans:100,300,400,500,700,800,900,100italic,300italic,400italic,500italic,700italic,800italic,900italic' rel='stylesheet' type='text/css'>\n",
       "<link href='http://fonts.googleapis.com/css?family=Source+Code+Pro:300,400' rel='stylesheet' type='text/css'>\n",
       "<style>\n",
       "    @font-face {\n",
       "        font-family: \"Computer Modern\";\n",
       "        src: url('http://mirrors.ctan.org/fonts/cm-unicode/fonts/otf/cmunss.otf');\n",
       "    }\n",
       "    div.cell{\n",
       "        width:600px;\n",
       "        margin-left:16% !important;\n",
       "        margin-right:auto;\n",
       "    }\n",
       "    h1 {\n",
       "        font-family: 'Alegreya Sans', sans-serif;\n",
       "    }\n",
       "    h2 {\n",
       "        font-family: 'Fenix', serif;\n",
       "    }\n",
       "    h3{\n",
       "\t\tfont-family: 'Fenix', serif;\n",
       "        margin-top:12px;\n",
       "        margin-bottom: 3px;\n",
       "       }\n",
       "\th4{\n",
       "\t\tfont-family: 'Fenix', serif;\n",
       "       }\n",
       "    h5 {\n",
       "        font-family: 'Alegreya Sans', sans-serif;\n",
       "    }\t   \n",
       "    div.text_cell_render{\n",
       "        font-family: 'Alegreya Sans',Computer Modern, \"Helvetica Neue\", Arial, Helvetica, Geneva, sans-serif;\n",
       "        line-height: 135%;\n",
       "        font-size: 120%;\n",
       "        width:600px;\n",
       "        margin-left:auto;\n",
       "        margin-right:auto;\n",
       "    }\n",
       "    .CodeMirror{\n",
       "            font-family: \"Source Code Pro\";\n",
       "\t\t\tfont-size: 90%;\n",
       "    }\n",
       "/*    .prompt{\n",
       "        display: None;\n",
       "    }*/\n",
       "    .text_cell_render h1 {\n",
       "        font-weight: 200;\n",
       "        font-size: 50pt;\n",
       "\t\tline-height: 100%;\n",
       "        color:#054BCD;\n",
       "        margin-bottom: 0.5em;\n",
       "        margin-top: 0.5em;\n",
       "        display: block;\n",
       "    }\t\n",
       "    .text_cell_render h5 {\n",
       "        font-weight: 300;\n",
       "        font-size: 16pt;\n",
       "        color: #054BCD;\n",
       "        font-style: italic;\n",
       "        margin-bottom: .5em;\n",
       "        margin-top: 0.5em;\n",
       "        display: block;\n",
       "    }\n",
       "    \n",
       "    .warning{\n",
       "        color: rgb( 240, 20, 20 )\n",
       "        }  \n",
       "</style>\n",
       "<script>\n",
       "    MathJax.Hub.Config({\n",
       "                        TeX: {\n",
       "                           extensions: [\"AMSmath.js\"]\n",
       "                           },\n",
       "                tex2jax: {\n",
       "                    inlineMath: [ ['$','$'], [\"\\\\(\",\"\\\\)\"] ],\n",
       "                    displayMath: [ ['$$','$$'], [\"\\\\[\",\"\\\\]\"] ]\n",
       "                },\n",
       "                displayAlign: 'center', // Change this to 'center' to center equations.\n",
       "                \"HTML-CSS\": {\n",
       "                    styles: {'.MathJax_Display': {\"margin\": 4}}\n",
       "                }\n",
       "        });\n",
       "</script>\n"
      ],
      "text/plain": [
       "<IPython.core.display.HTML object>"
      ]
     },
     "execution_count": 12,
     "metadata": {},
     "output_type": "execute_result"
    }
   ],
   "source": [
    "# css style\n",
    "from IPython.core.display import HTML\n",
    "def css_styling():\n",
    "    styles = open(\"../styles/custom.css\", \"r\").read()\n",
    "    return HTML(styles)\n",
    "css_styling()"
   ]
  },
  {
   "cell_type": "code",
   "execution_count": null,
   "metadata": {},
   "outputs": [],
   "source": []
  }
 ],
 "metadata": {
  "kernelspec": {
   "display_name": "Python 3",
   "language": "python",
   "name": "python3"
  },
  "language_info": {
   "codemirror_mode": {
    "name": "ipython",
    "version": 3
   },
   "file_extension": ".py",
   "mimetype": "text/x-python",
   "name": "python",
   "nbconvert_exporter": "python",
   "pygments_lexer": "ipython3",
   "version": "3.8.5"
  }
 },
 "nbformat": 4,
 "nbformat_minor": 2
}
